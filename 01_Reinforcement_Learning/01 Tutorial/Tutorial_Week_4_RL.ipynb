{
  "nbformat": 4,
  "nbformat_minor": 0,
  "metadata": {
    "colab": {
      "provenance": []
    },
    "kernelspec": {
      "name": "python3",
      "display_name": "Python 3"
    },
    "language_info": {
      "name": "python"
    }
  },
  "cells": [
    {
      "cell_type": "markdown",
      "source": [
        "#Artificial Intelligence - COMP9414\n",
        "###Tutorial week 4 - Reinforcement learning\n",
        "\n",
        "On-policy SARSA in a gridworld\n",
        "\n",
        "@Author: __Francisco Cruz__\n"
      ],
      "metadata": {
        "id": "TkEERFdrahKF"
      }
    },
    {
      "cell_type": "markdown",
      "source": [
        "##Theoretical Background\n",
        "\n",
        "Reinforcement learning (RL) is a machine learning method based on behavioural psychology. It allows an agent to learn how to perform new tasks by exploring the environment and observing state modifications and possible rewards. The method is oriented toward goals in which an agent, either human or robotic, tries to maximise the long-term cumulative reward by iterative interactions with the environment.\n",
        "\n",
        "An RL problem is comprised of:\n",
        "\n",
        "* A policy: that defines how an agent selects an action aiming to maximize the reward signal obtained.\n",
        "* A reward signal: that establishes a definition of positive and/or negative * events, i.e., the aims to be achieved by the RL agent.\n",
        "* A value function: that specifies how good the reward signal might be over time from one state or a state-action pair.\n",
        "* Optionally, a model of the environment: that allows the agent to infer what will be the next state and reward, given any state and action.\n",
        "\n",
        "Based on this model, an RL agent is able to learn the optimal policy that allows selecting the action leading to the highest cumulative reward given the value function.\n",
        "\n",
        "Markov decision processes (MDPs) are the base of RL tasks.\n",
        "In an MDP, transitions and rewards depend only on the current state and the selected action by the agent.\n",
        "In other words, a Markov state contains all the information related to the dynamics of a task, i.e., once the current state is known, the history of transitions that led the agent to that position is irrelevant in terms of the decision-making problem.\n",
        "\n",
        "An MDP is characterized by the 4-tuple $<S, A, \\delta, r>$ where:\n",
        "\n",
        "* $S$ is a finite set of states,\n",
        "* $A$ is a set of actions,\n",
        "* $\\delta$ is the transition function $\\delta:S \\times A \\rightarrow S$, and,\n",
        "* $r$ is the reward function $r:S \\times A \\rightarrow \\mathbb{R}$.\n",
        "\n",
        "At each time $t$, the agent perceives the current state $s_t \\in S$ and selects the action $a_t \\in A$ to perform it.\n",
        "The environment returns the reward $r_t= r(s_t, a_t)$ and the agent transits to the state $s_{t+1}= \\delta(s_t, a_t)$.\n",
        "The functions $r$ and $\\delta$ depend only on the current state and action, i.e., it is a process with no memory.\n",
        "\n",
        "Actions are selected according to a policy $\\pi$, which in psychology is called a set of stimulus-response rules or associations.\n",
        "Thus, the value of taking an action $a$ in a state $s$ under a policy $\\pi$ is denoted $q^{\\pi}(s,a)$ which is also called the action-value function for a policy $\\pi$.\n",
        "\n",
        "To find a policy, diverse learning methods exist, e.g., SARSA and Q-learning.\n",
        "The on-policy method SARSA considers transitions from state-action pair to state-action pair.\n",
        "In the Q-learning method, state-action values are updated using the best possible action from the next state.\n",
        "\n",
        "* SARSA equation:\n",
        "\\begin{equation}\n",
        "Q(s_t,a_t) \\leftarrow Q(s_t,a_t)+\\alpha[r_{t+1}+\\gamma Q(s_{t+1},a_{t+1})- Q(s_t,a_t)]\n",
        "\\end{equation}\n",
        "\n",
        "* Q-learning equation:\n",
        "\\begin{equation}\n",
        "Q(s_t,a_t) \\leftarrow Q(s_t,a_t)+\\alpha[r_{t+1}+\\gamma\\max_{a \\in A(s_{t+1})} Q(s_{t+1},a)- Q(s_t,a_t)]\n",
        "\\end{equation}\n",
        "\n"
      ],
      "metadata": {
        "id": "YasaImIobeea"
      }
    },
    {
      "cell_type": "markdown",
      "source": [
        "__Section 2. Setup__\n",
        "\n",
        "\n",
        "1. Using Python, create a gridworld of variable dimension $n \\times m$ allowing positive and negative rewards for some positions.\n",
        "\n",
        "2. Create methods for returning the current state, the reward, the number of states, and the number of actions.\n",
        "\n",
        "3. Create a method to perform an action into the gridworld, i.e., a method that move the agent from one state to another given one of the following actions: right, left, up, down.\n",
        "\n",
        "4. Consider only valid movements, i.e., actions attempting to move the agent out of the gridworld have no effect.\n"
      ],
      "metadata": {
        "id": "mfUT55pLesXO"
      }
    },
    {
      "cell_type": "code",
      "execution_count": null,
      "metadata": {
        "id": "2KsQ5ZxnIaML"
      },
      "outputs": [],
      "source": [
        "import numpy as np\n",
        "import matplotlib.pyplot as plt\n",
        "\n",
        "class World(object):\n",
        "\n",
        "    def __init__(self, x, y):\n",
        "        self.x = x\n",
        "        self.y = y\n",
        "        self.R = np.zeros(self.x*self.y)\n",
        "        self.agentPos = 0\n",
        "\n",
        "    def idx2xy(self,idx):\n",
        "        x = int(idx / self.y)\n",
        "        y = idx % self.y\n",
        "        return x, y\n",
        "\n",
        "    def xy2idx(self,x,y):\n",
        "        return x*self.y + y\n",
        "\n",
        "    def resetAgent(self, pos):\n",
        "        self.agentPos = int(pos)\n",
        "\n",
        "    def setReward(self, x, y, r):\n",
        "        goalState = self.xy2idx(x, y)\n",
        "        self.R[goalState] = r\n",
        "\n",
        "    def getState(self):\n",
        "        return self.agentPos\n",
        "\n",
        "    def getReward(self):\n",
        "        if self.agentPos == -1:\n",
        "            return -1.0\n",
        "        else:\n",
        "            return self.R[self.agentPos]\n",
        "\n",
        "    def getNumOfStates(self):\n",
        "        return self.x*self.y\n",
        "\n",
        "    def getNumOfActions(self):\n",
        "        return 4\n",
        "\n",
        "    def move(self,id):\n",
        "        x_, y_ = self.idx2xy(self.agentPos)\n",
        "        tmpX = x_\n",
        "        tmpY = y_\n",
        "        if id == 0: # move DOWN\n",
        "            tmpX += 1\n",
        "        elif id == 1: # move UP\n",
        "            tmpX -= 1\n",
        "        elif id == 2: # move RIGHT\n",
        "            tmpY += 1\n",
        "        elif id == 3: # move LEFT\n",
        "            tmpY -= 1\n",
        "        else:\n",
        "            print(\"ERROR: Unknown action\")\n",
        "\n",
        "        if self.validMove(tmpX, tmpY):\n",
        "            self.agentPos = self.xy2idx(tmpX,tmpY)\n",
        "\n",
        "    def validMove(self,x,y):\n",
        "        valid = True\n",
        "        if x < 0 or x >= self.x:\n",
        "            valid = False\n",
        "        if y < 0 or y >= self.y:\n",
        "            valid = False\n",
        "        return valid\n"
      ]
    },
    {
      "cell_type": "markdown",
      "source": [
        "__Section 2. Setup.__\n",
        "\n",
        "5. Create a reinforcement learning agent with the following characteristics:\n",
        "  * Use a Q-table with Q-values randomly initialized. Use a uniform distribution between $0$ and $0.1$.\n",
        "  * Learning parameters: learning rate $\\alpha=0.7$, discount factor $\\gamma=0.4$, and $\\epsilon$-greedy action selection method with $\\epsilon=0.25$.\n",
        "  * Implement the temporal-different on-policy method SARSA for training.\n"
      ],
      "metadata": {
        "id": "FFIa1KjKgXCX"
      }
    },
    {
      "cell_type": "code",
      "source": [
        "class Agent(object):\n",
        "    def __init__(self, world):\n",
        "        self.world = world\n",
        "        self.numOfActions = self.world.getNumOfActions()\n",
        "        self.numOfStates = self.world.getNumOfStates()\n",
        "        self.Q = np.random.uniform(0.0,0.01,(self.numOfStates,self.numOfActions))\n",
        "        self.alpha = 0.7\n",
        "        self.gamma = 0.4\n",
        "        self.epsilon = 0.25\n",
        "\n",
        "    # epsilon-greedy action selection\n",
        "    def actionSelection(self, state):\n",
        "        if (np.random.rand() <= self.epsilon):\n",
        "            action = np.random.randint(self.numOfActions)\n",
        "        else:\n",
        "            action = np.argmax(self.Q[state,:])\n",
        "\n",
        "        return action\n",
        "\n",
        "    def train(self, iter):\n",
        "        for itr in range(iter):\n",
        "\n",
        "            state = int(np.random.randint(0,self.numOfStates))\n",
        "            self.world.resetAgent(state)\n",
        "\n",
        "            # choose action\n",
        "            a = self.actionSelection(state)\n",
        "            expisode = True\n",
        "\n",
        "            while expisode:\n",
        "                # perform action\n",
        "                self.world.move(a)\n",
        "                # look for reward\n",
        "                reward = self.world.getReward()\n",
        "                state_new = int(self.world.getState())\n",
        "\n",
        "                # new action\n",
        "                a_new = self.actionSelection(state_new)\n",
        "\n",
        "                # update Q-values\n",
        "                self.Q[state,a] += self.alpha*(reward +\n",
        "                                    self.gamma*self.Q[state_new,a_new]-\n",
        "                                    self.Q[state,a])\n",
        "\n",
        "                state = state_new\n",
        "                a = a_new\n",
        "\n",
        "                if reward == 1.0:\n",
        "                    self.Q[state_new,:] = 0\n",
        "                    expisode = False\n",
        "\n",
        "        print(self.Q)\n",
        "\n",
        "    def plotQValues(self):\n",
        "        plt.rcParams.update({'font.size': 18})\n",
        "        plt.imshow(self.Q, cmap='Oranges', interpolation='nearest', aspect='auto')\n",
        "        plt.colorbar()\n",
        "        plt.title(\"Q-values\")\n",
        "        plt.xlabel(\"Actions\")\n",
        "        plt.ylabel(\"States\")\n",
        "        plt.xticks(np.arange(4), ('Down', 'Up', 'Right', 'Left'))\n",
        "        plt.yticks(np.arange(self.numOfStates), np.arange(self.numOfStates))\n",
        "        plt.show()\n"
      ],
      "metadata": {
        "id": "ik30MDz6gaUG"
      },
      "execution_count": null,
      "outputs": []
    },
    {
      "cell_type": "markdown",
      "source": [
        "__Section 3. Experiments__\n",
        "\n",
        "1. Create a $3 \\times 4$ gridworld.\n",
        "\n",
        "2. Use the grid $(2,3)$ as the goal position with reward $1.0$ and the grid $(1,1)$ as a fear regioon with reward $-1.0$.\n",
        "\n",
        "3. Create a learner agent to navigate the gridworld previously created.\n",
        "\n",
        "4. Train the reinforcemente learning agent using SARSA for $1000$ episodes.\n",
        "\n",
        "5. Plot the Q-values. Observe the state-action pair moving the agent to both the goal and fear positions.\n"
      ],
      "metadata": {
        "id": "M8IOlGRpgate"
      }
    },
    {
      "cell_type": "code",
      "source": [
        "#Section 3.a.\n",
        "world = World(3,4)\n",
        "\n",
        "#Section 3.b.\n",
        "world.setReward(2, 3, 1.0) #Goal state\n",
        "world.setReward(1, 1, -1.0) #Fear region\n",
        "\n",
        "#Section 3.c.\n",
        "learner = Agent(world)\n",
        "\n",
        "#Section 3.d.\n",
        "learner.train(1000)\n",
        "\n",
        "#Section 3.e.\n",
        "learner.plotQValues()"
      ],
      "metadata": {
        "id": "ZiJ_fQ1Vg374",
        "colab": {
          "base_uri": "https://localhost:8080/",
          "height": 709
        },
        "outputId": "248641d1-806b-4026-b953-9627f6979770"
      },
      "execution_count": null,
      "outputs": [
        {
          "output_type": "stream",
          "name": "stdout",
          "text": [
            "[[-0.08130751 -0.03519311 -0.01434241 -0.02136956]\n",
            " [-0.94055039 -0.01260737  0.05390196 -0.00786583]\n",
            " [ 0.09381017  0.04438879  0.15992659  0.00645357]\n",
            " [ 0.39999308  0.02697205  0.03634673  0.05348774]\n",
            " [-0.07580513 -0.02678203 -0.94098994 -0.27657011]\n",
            " [ 0.15701936  0.0067517  -0.21915989  0.00212018]\n",
            " [ 0.09846334  0.0479676   0.14255547 -0.94179474]\n",
            " [ 1.          0.03245078  0.13301597  0.0355441 ]\n",
            " [ 0.04916836 -0.10130217  0.07988172  0.04060015]\n",
            " [ 0.14816343 -0.98483955  0.32887129  0.00696938]\n",
            " [ 0.31653707  0.15860911  1.          0.06838195]\n",
            " [ 0.          0.          0.          0.        ]]\n"
          ]
        },
        {
          "output_type": "display_data",
          "data": {
            "text/plain": [
              "<Figure size 640x480 with 2 Axes>"
            ],
            "image/png": "[encoded data removed]"
          },
          "metadata": {}
        }
      ]
    }
  ]
}