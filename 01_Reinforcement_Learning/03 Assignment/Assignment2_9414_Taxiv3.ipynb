{
  "cells": [
    {
      "cell_type": "code",
      "execution_count": 1,
      "metadata": {
        "id": "M7ZUnPHFSMRS"
      },
      "outputs": [],
      "source": [
        "# Hai Duong Nguyen z5521050"
      ]
    },
    {
      "cell_type": "markdown",
      "metadata": {
        "id": "-LLY-ac-QUqL"
      },
      "source": [
        "# Step 1: Set up environment\n",
        "\n",
        "Based on what we know about Taxi-v3, which includes:\n",
        "\n",
        "\n",
        "*   Total of states: 500 (25 positions of taxi (5x5 grid) x 5 positions of passenger x 4 destination locations = 500 states)\n",
        "*   Number of actions: 6 (up, down, left, right, pick up, drop off)\n",
        "*   Reward: +20 for sucessful drop-off, -1 for each step, -10 for illegal pick-up/drop-off\n",
        "\n",
        "The Q-table is a matrix that stores the estimated Q-values for each state-action pair. So, we initialize Q-table using total of states and number of actions.\n",
        "\n",
        "Each entry Q[state][action] in the Q-table will represent the agent's estimate of the total future reward it will receive.\n",
        "\n",
        "\n",
        "\n"
      ]
    },
    {
      "cell_type": "code",
      "execution_count": 2,
      "metadata": {
        "id": "sL3c8joCyN3N"
      },
      "outputs": [],
      "source": [
        "import gym\n",
        "import numpy as np\n",
        "import matplotlib.pyplot as plt\n",
        "\n",
        "# Set random seed for reproducibility\n",
        "np.random.seed(42)\n",
        "\n",
        "# Initialize environment\n",
        "env = gym.make('Taxi-v3', render_mode=\"ansi\").env\n",
        "\n",
        "# Get number of states and actions\n",
        "num_states = env.observation_space.n\n",
        "num_actions = env.action_space.n\n",
        "\n",
        "# Initialize Q-tables for Q-learning and SARSA\n",
        "Q_qlearning = np.zeros((num_states, num_actions))\n",
        "Q_sarsa = np.zeros((num_states, num_actions))"
      ]
    },
    {
      "cell_type": "markdown",
      "metadata": {
        "id": "QcjmdBR9TOqP"
      },
      "source": [
        "# Step 2: Training\n",
        "We specify number of episodes, here I choose 2000 since the minimum requirement is 1000. I find 2000 is the most optimal number, higher might result in overfitting."
      ]
    },
    {
      "cell_type": "code",
      "execution_count": 3,
      "metadata": {
        "id": "kEcWR-YSQ9Rl"
      },
      "outputs": [],
      "source": [
        "num_episodes = 2000"
      ]
    },
    {
      "cell_type": "markdown",
      "metadata": {
        "id": "GokjFpy-VaNk"
      },
      "source": [
        "I decied to use Softmax method to achieve balance in reinforcement learning. The softmax equation is:\n",
        "\n",
        "\\begin{equation}\n",
        "\\text{softmax}(Q_t(a)) = \\frac{e^{Q_t(a) / T}}{\\sum_{i=1} e^{Q_t(i) / T}}\n",
        "\\end{equation}\n",
        "\n",
        "Where:\n",
        "- $Q_t (a)$ are the Q-values for each action.\n",
        "- T is the temperature parameter."
      ]
    },
    {
      "cell_type": "code",
      "execution_count": 4,
      "metadata": {
        "id": "CfX4ftK9z-Jg"
      },
      "outputs": [],
      "source": [
        "def softmax(x, temperature):\n",
        "    # Compute softmax values for each sets of scores in x\n",
        "    e_x = np.exp(x / temperature)\n",
        "    return e_x / np.sum(e_x)"
      ]
    },
    {
      "cell_type": "markdown",
      "metadata": {
        "id": "N5PZiSB6Tp0f"
      },
      "source": [
        "## 2.1. Q-learning\n",
        "Q-learning is an off-policy algorithm that updates Q-values based on the maximum possible reward in the next state.\n",
        "\n",
        "Here I specify the hyperparameters:\n",
        "\n",
        "* Learning Rate (alpha_q): alpha_q = 0.75 determines the rate at which the algorithm updates the Q-values.\n",
        "* Discount Factor (gamma_q): gamma_q = 0.85 determines the importance of future rewards. A value closer to 1 means future rewards are considered more important.\n",
        "* Temperature (T_q): T_q = 0.7 is used in the softmax function to control the exploration-exploitation trade-off, here I choose 0.7 so it will likely to choose the action with the highest Q-value, but still have a moderate exploration\n"
      ]
    },
    {
      "cell_type": "code",
      "execution_count": 5,
      "metadata": {
        "id": "ZItxK0zOyacD"
      },
      "outputs": [],
      "source": [
        "# Hyperparameters for Q-learning\n",
        "alpha_q = 0.75 # Learning rate\n",
        "gamma_q = 0.85 # Discount factor\n",
        "T_q = 0.7 # Temperature for softmax"
      ]
    },
    {
      "cell_type": "markdown",
      "metadata": {
        "id": "z48OBljmgt6B"
      },
      "source": [
        "In the Q-learning method, state-action values are updated using the best possible action from the next state.\n",
        "\n",
        "\\begin{equation}\n",
        "Q(s_t,a_t) \\leftarrow Q(s_t,a_t)+\\alpha[r_{t+1}+\\gamma\\max_{a \\in A(s_{t+1})} Q(s_{t+1},a)- Q(s_t,a_t)]\n",
        "\\end{equation}\n",
        "\n",
        "Where:\n",
        "- $Q(s_t, a_t)$ is the Q-value for the current state $s_t$ and the current action $a_t$. It represents the agent's current estimate of the total future reward it will receive after taking action $a_t$ in state $s_t$.\n",
        "- $\\alpha$ (alpha) is the learning rate, which determines how much new information overrides the old information. It ranges between 0 and 1. A higher value means the agent is more influenced by new information.\n",
        "- $r_{t+1}$ is the reward received after taking action $a_t$ and transitioning to the new state $s_{t+1}$.\n",
        "- $\\gamma$ (gamma) is the discount factor, which determines the importance of future rewards. It also ranges between 0 and 1. A higher value means future rewards are considered more important.\n",
        "- $\\max_{a \\in A(s_{t+1})} Q(s_{t+1}, a)$ is the maximum Q-value for the next state $s_{t+1}$ over all possible actions $a$. This represents the best possible future reward from state $s_{t+1}$.\n",
        "- $Q(s_t, a_t)$ on the right side of the equation is the current Q-value for the state $s_t$ and action $a_t$, which gets updated by adding the learning term.\n",
        "\n",
        "This equation updates the Q-value for the state-action pair $(s_t, a_t)$ by a combination of:\n",
        "- The old Q-value.\n",
        "- A term that includes the reward received and the discounted estimate of the optimal future reward, scaled by the learning rate."
      ]
    },
    {
      "cell_type": "code",
      "execution_count": 6,
      "metadata": {
        "id": "weNXw8ukymnw"
      },
      "outputs": [
        {
          "name": "stderr",
          "output_type": "stream",
          "text": [
            "C:\\Users\\Nguyen Hai Duong\\AppData\\Local\\Packages\\PythonSoftwareFoundation.Python.3.12_qbz5n2kfra8p0\\LocalCache\\local-packages\\Python312\\site-packages\\gym\\utils\\passive_env_checker.py:233: DeprecationWarning: `np.bool8` is a deprecated alias for `np.bool_`.  (Deprecated NumPy 1.24)\n",
            "  if not isinstance(terminated, (bool, np.bool8)):\n"
          ]
        }
      ],
      "source": [
        "rewards_q = [] # Store rewards for Q-learning\n",
        "steps_q = [] # Store steps for Q-learning\n",
        "\n",
        "# Q-learning\n",
        "for episode in range(num_episodes):\n",
        "    # Reset environment to starting state\n",
        "    state = env.reset()[0]\n",
        "    total_reward = 0\n",
        "    total_steps = 0\n",
        "\n",
        "    while True:\n",
        "        # Choose an action using the softmax policy based on the current state's Q-values\n",
        "        action_probabilities = softmax(Q_qlearning[state, :], T_q)\n",
        "        action = np.random.choice(num_actions, p=action_probabilities)\n",
        "\n",
        "        # Take the chosen action, observe the new state and reward, and check if the episode is done\n",
        "        new_state, reward, done, _, info = env.step(action)\n",
        "\n",
        "        # Update Q-values using the equation\n",
        "        Q_qlearning[state, action] = Q_qlearning[state, action] + alpha_q * (reward + gamma_q * np.max(Q_qlearning[new_state, :]) - Q_qlearning[state, action])\n",
        "\n",
        "        # Update the current state to the new state\n",
        "        state = new_state\n",
        "\n",
        "        # Accumulate the total reward for the episode\n",
        "        total_reward += reward\n",
        "\n",
        "        # Increment the total number of steps taken in the episode\n",
        "        total_steps += 1\n",
        "\n",
        "        if done:\n",
        "            break\n",
        "\n",
        "    # Store the total reward and total number of steps taken in the episode\n",
        "    rewards_q.append(total_reward)\n",
        "    steps_q.append(total_steps)"
      ]
    },
    {
      "cell_type": "markdown",
      "metadata": {
        "id": "4kEe9Czr8129"
      },
      "source": [
        "## 2.2. SARSA\n",
        "The on-policy method SARSA considers transitions from state-action pair to state-action pair.\n",
        "\n",
        "Here I specify the hyperparameters:\n",
        "\n",
        "* Learning Rate (alpha_s): alpha_s = 0.7 means that 70% of the new information will be used to update the old Q-value.\n",
        "* Discount Factor (gamma_s): gamma_s = 0.95 means that future rewards are almost as important as immediate rewards.\n",
        "* Temperature (T_s): T_s = 0.5 meaning while the agent will often choose the best-known action, it will still occasionally try other actions to discover potentially better strategies\n"
      ]
    },
    {
      "cell_type": "code",
      "execution_count": 7,
      "metadata": {
        "id": "EApSDh69ydwr"
      },
      "outputs": [],
      "source": [
        "# Hyperparameters for SARSA\n",
        "alpha_s = 0.7 # Learning rate\n",
        "gamma_s = 0.95 # Discount factor\n",
        "T_s = 0.5 # Temperature for softmax"
      ]
    },
    {
      "cell_type": "markdown",
      "metadata": {
        "id": "kBeICxp8-uwB"
      },
      "source": [
        "The SARSA update rule is defined based on the softmax policy. The actions are selected based on a probability distribution that is influenced by the Q-values and the temperature parameter. Higher Q-values lead to higher probabilities, but all actions have some chance of being selected.\n",
        "\n",
        "\n",
        "\\begin{equation}\n",
        "Q(s_t,a_t) \\leftarrow Q(s_t,a_t)+\\alpha[r_{t+1}+\\gamma Q(s_{t+1},a_{t+1})- Q(s_t,a_t)]\n",
        "\\end{equation}\n",
        "\n",
        "Where:\n",
        "- $Q(s_t, a_t)$ is the Q-value for the current state $s_t$ and the current action $a_t$. It represents the agent's current estimate of the total future reward it will receive after taking action $a_t$ in state $s_t$.\n",
        "- $\\alpha$ (alpha) is the learning rate, which determines how much new information overrides the old information. It ranges between 0 and 1. A higher value means the agent is more influenced by new information.\n",
        "- $r_{t+1}$ is the reward received after taking action $a_t$ and transitioning to the new state $s_{t+1}$.\n",
        "- $\\gamma$ (gamma) is the discount factor, which determines the importance of future rewards. It also ranges between 0 and 1. A higher value means future rewards are considered more important.\n",
        "- $Q(s_{t+1}, a_{t+1})$ is the Q-value for the next state $s_{t+1}$ and the next action $a_{t+1}$. This represents the estimated reward of the next state-action pair following the current policy.\n",
        "- $Q(s_t, a_t)$ on the right side of the equation is the current Q-value for the state $s_t$ and action $a_t$, which gets updated by adding the learning term.\n",
        "\n",
        "This equation updates the Q-value for the state-action pair $(s_t, a_t)$ by a combination of:\n",
        "- The old Q-value.\n",
        "- A term that includes the reward received and the discounted estimate of the future reward for the next state-action pair, scaled by the learning rate."
      ]
    },
    {
      "cell_type": "code",
      "execution_count": 8,
      "metadata": {
        "id": "12WZC2Uiyk0l"
      },
      "outputs": [],
      "source": [
        "rewards_s = [] # Store rewards for SARSA\n",
        "steps_s = [] # Store steps for SARSA\n",
        "\n",
        "# SARSA\n",
        "for episode in range(num_episodes):\n",
        "    # Reset environment to starting state\n",
        "    state = env.reset()[0]\n",
        "\n",
        "    total_reward = 0\n",
        "    total_steps = 0\n",
        "\n",
        "    # Choose an action using the softmax policy based on the current state's Q-values\n",
        "    action_probabilities = softmax(Q_sarsa[state, :], T_s)\n",
        "    action = np.random.choice(num_actions, p=action_probabilities)\n",
        "\n",
        "    while True:\n",
        "        # Take the chosen action, observe the new state and reward, and check if the episode is done\n",
        "        new_state, reward, done, _, info = env.step(action)\n",
        "\n",
        "        # Choose a new action using the softmax policy based on the new state's Q-values\n",
        "        new_action_probabilities = softmax(Q_sarsa[new_state, :], T_s)\n",
        "        new_action = np.random.choice(num_actions, p=new_action_probabilities)\n",
        "\n",
        "        # Update Q-values using the equation\n",
        "        Q_sarsa[state, action] = Q_sarsa[state, action] + alpha_s * (reward + gamma_s * Q_sarsa[new_state, new_action] - Q_sarsa[state, action])\n",
        "\n",
        "        # Update the current state and action to the new state and action\n",
        "        state, action = new_state, new_action\n",
        "\n",
        "        # Accumulate the total reward for the episode\n",
        "        total_reward += reward\n",
        "        # Increment the total number of steps taken in the episode\n",
        "        total_steps += 1\n",
        "        \n",
        "        if done:\n",
        "            break\n",
        "\n",
        "    # Store the total reward and total number of steps taken in the episode\n",
        "    rewards_s.append(total_reward)\n",
        "    steps_s.append(total_steps)"
      ]
    },
    {
      "cell_type": "markdown",
      "metadata": {
        "id": "TZ8G5aPzAlOs"
      },
      "source": [
        "# Step 3: Accumulated rewards and steps per episode plots"
      ]
    },
    {
      "cell_type": "code",
      "execution_count": 9,
      "metadata": {
        "id": "--q8hU2pzwZk"
      },
      "outputs": [
        {
          "data": {
            "image/png": "[encoded data removed]",
            "text/plain": [
              "<Figure size 1500x500 with 4 Axes>"
            ]
          },
          "metadata": {},
          "output_type": "display_data"
        }
      ],
      "source": [
        "# Plotting the results\n",
        "episodes = range(num_episodes)\n",
        "\n",
        "plt.figure(figsize=(15, 5))\n",
        "\n",
        "# Plot rewards and steps for Q-learning\n",
        "plt.subplot(2, 2, 1)\n",
        "plt.plot(episodes, rewards_q, label='Q-learning')\n",
        "plt.xlabel('Episodes')\n",
        "plt.ylabel('Accumulated Reward')\n",
        "plt.title('Q-learning Reward Over Episodes')\n",
        "plt.legend()\n",
        "\n",
        "plt.subplot(2, 2, 2)\n",
        "plt.plot(episodes, steps_q, label='Q-learning')\n",
        "plt.xlabel('Episodes')\n",
        "plt.ylabel('Steps')\n",
        "plt.title('Q-learning Steps Per Episode')\n",
        "plt.legend()\n",
        "\n",
        "# Plot rewards and steps for SARSA\n",
        "plt.subplot(2, 2, 3)\n",
        "plt.plot(episodes, rewards_s, label='SARSA')\n",
        "plt.xlabel('Episodes')\n",
        "plt.ylabel('Accumulated Reward')\n",
        "plt.title('SARSA Reward Over Episodes')\n",
        "plt.legend()\n",
        "\n",
        "plt.subplot(2, 2, 4)\n",
        "plt.plot(episodes, steps_s, label='SARSA')\n",
        "plt.xlabel('Episodes')\n",
        "plt.ylabel('Steps')\n",
        "plt.title('SARSA Steps Per Episode')\n",
        "plt.legend()\n",
        "\n",
        "plt.tight_layout()\n",
        "plt.show()"
      ]
    },
    {
      "cell_type": "markdown",
      "metadata": {
        "id": "3ELklyILAwKI"
      },
      "source": [
        "Save the Q-table for both Q-learning and SARSA:"
      ]
    },
    {
      "cell_type": "code",
      "execution_count": 10,
      "metadata": {
        "id": "smqewb3wzyhM"
      },
      "outputs": [],
      "source": [
        "# # Save Q-learning Q-table\n",
        "# np.save(\"Q_qlearning.npy\", Q_qlearning)\n",
        "# # Save SARSA Q-table\n",
        "# np.save(\"Q_sarsa.npy\", Q_sarsa)"
      ]
    },
    {
      "cell_type": "markdown",
      "metadata": {
        "id": "HcNia7BGA27t"
      },
      "source": [
        "# Step 4: Evaluation\n",
        "\n",
        "Here we load the Q-tables, and specify the number of test episodes, in this case is 100."
      ]
    },
    {
      "cell_type": "code",
      "execution_count": 11,
      "metadata": {
        "id": "gSYqYaT7z35L"
      },
      "outputs": [],
      "source": [
        "# Load Q-tables for testing\n",
        "Q_qlearning_test = np.load(\"Q_qlearning.npy\")\n",
        "Q_sarsa_test = np.load(\"Q_sarsa.npy\")\n",
        "\n",
        "num_test_episodes = 100"
      ]
    },
    {
      "cell_type": "markdown",
      "metadata": {
        "id": "rLVEyCqqBGtk"
      },
      "source": [
        "For testing, we use greedy action medthod. This method is the simplest way to choose an action: the action with the highest estimated value."
      ]
    },
    {
      "cell_type": "code",
      "execution_count": 12,
      "metadata": {
        "id": "9Bx06jqHz6Ep"
      },
      "outputs": [],
      "source": [
        "def greedy_action(Q, state):\n",
        "    # Choose the action with the highest Q-value for the given state\n",
        "    return np.argmax(Q[state, :])"
      ]
    },
    {
      "cell_type": "markdown",
      "metadata": {
        "id": "DJZvoTa4Bfrf"
      },
      "source": [
        "I evaluate the performance of agents trained using Q-learning and SARSA algorithms in the Taxi-v3 environment by calculating the average rewards and steps taken over a specified number of test episodes, and checks if the performance meets requirements of the assignment.\n",
        "\n",
        "- For Qlearning algorithm, we aim for the agent to perform at most 14 steps per episode on average and obtain a minimum of 7 average accumulated reward.\n",
        "\n",
        "- For SARSA algorithm, we aim for the agent to perform at most 15 steps per\n",
        "episode on average and obtain a minimum of 5 average accumulated reward.\n",
        "\n"
      ]
    },
    {
      "cell_type": "code",
      "execution_count": 13,
      "metadata": {
        "id": "ACz_Ev-G0VKi"
      },
      "outputs": [
        {
          "name": "stdout",
          "output_type": "stream",
          "text": [
            "Q-learning:\n",
            "Avg Reward: 7.58, Avg Steps: 13.42\n",
            "Requirements Met: True\n",
            "\n",
            "SARSA:\n",
            "Avg Reward: 6.54, Avg Steps: 14.46\n",
            "Requirements Met: True\n"
          ]
        }
      ],
      "source": [
        "# Evaluation for Q-learning\n",
        "total_reward_qlearning = 0\n",
        "total_steps_qlearning = 0\n",
        "\n",
        "for episode in range(num_test_episodes):\n",
        "    state = env.reset()[0]\n",
        "    steps = 0\n",
        "    while True:\n",
        "        # Choose the greedy action based on the Q-values\n",
        "        action = greedy_action(Q_qlearning_test, state)\n",
        "\n",
        "        # Take the chosen action, observe the new state and reward, and check if the episode is done\n",
        "        state, reward, done, _, info = env.step(action)\n",
        "\n",
        "        # Accumulate the total reward for the episode\n",
        "        total_reward_qlearning += reward\n",
        "        steps += 1\n",
        "        if done:\n",
        "            break\n",
        "    total_steps_qlearning += steps\n",
        "\n",
        "# Evaluation for SARSA\n",
        "total_reward_sarsa = 0\n",
        "total_steps_sarsa = 0\n",
        "\n",
        "for episode in range(num_test_episodes):\n",
        "    state = env.reset()[0]\n",
        "    steps = 0\n",
        "    while True:\n",
        "        # Choose the greedy action based on the Q-values\n",
        "        action = greedy_action(Q_sarsa_test, state)\n",
        "\n",
        "        # Take the chosen action, observe the new state and reward, and check if the episode is done\n",
        "        state, reward, done, _, info = env.step(action)\n",
        "\n",
        "        # Accumulate the total reward for the episode\n",
        "        total_reward_sarsa += reward\n",
        "        steps += 1\n",
        "        if done:\n",
        "            break\n",
        "    total_steps_sarsa += steps\n",
        "\n",
        "# Calculate average reward and steps for Q-learning and SARSA\n",
        "avg_reward_q = total_reward_qlearning / num_test_episodes\n",
        "avg_steps_q = total_steps_qlearning / num_test_episodes\n",
        "\n",
        "avg_reward_s = total_reward_sarsa / num_test_episodes\n",
        "avg_steps_s = total_steps_sarsa / num_test_episodes\n",
        "\n",
        "# Check requirements\n",
        "qlearning_requirements_met = avg_steps_q <= 14 and avg_reward_q >= 7\n",
        "sarsa_requirements_met = avg_steps_s <= 15 and avg_reward_s >= 5\n",
        "\n",
        "print(f\"Q-learning:\\nAvg Reward: {avg_reward_q}, Avg Steps: {avg_steps_q}\")\n",
        "print(f\"Requirements Met: {qlearning_requirements_met}\\n\")\n",
        "print(f\"SARSA:\\nAvg Reward: {avg_reward_s}, Avg Steps: {avg_steps_s}\")\n",
        "print(f\"Requirements Met: {sarsa_requirements_met}\")"
      ]
    },
    {
      "cell_type": "markdown",
      "metadata": {
        "id": "uJj1aL4cCijp"
      },
      "source": [
        "# Step 5: Visualization"
      ]
    },
    {
      "cell_type": "markdown",
      "metadata": {
        "id": "rZZJot_FDMIG"
      },
      "source": [
        "Final step is to visualize the performance of trained agents for both Q-learning and SARSA algorithms in the Taxi-v3 environment (ansi mode). The visualization shows the steps taken by the agent and the rewards accumulated during an episode.\n",
        "\n",
        "Here we choose the maximum step of 100 so the visualization runs for a maximum of 100 steps or until the episode is done."
      ]
    },
    {
      "cell_type": "code",
      "execution_count": 14,
      "metadata": {
        "id": "qs9SwuT10hVU"
      },
      "outputs": [
        {
          "name": "stdout",
          "output_type": "stream",
          "text": [
            "\n",
            "Q-learning Visualization\n",
            "\n",
            "+---------+\n",
            "|R: | : :\u001b[42mG\u001b[0m|\n",
            "| : | : : |\n",
            "| : : : : |\n",
            "| | : | : |\n",
            "|Y| : |\u001b[35mB\u001b[0m: |\n",
            "+---------+\n",
            "  (Pickup)\n",
            "\n",
            "Step: 0, State: 87, Action: 4, Reward: -1, Total Accumulated Reward: -1\n",
            "+---------+\n",
            "|R: | : :G|\n",
            "| : | : :\u001b[42m_\u001b[0m|\n",
            "| : : : : |\n",
            "| | : | : |\n",
            "|Y| : |\u001b[35mB\u001b[0m: |\n",
            "+---------+\n",
            "  (South)\n",
            "\n",
            "Step: 1, State: 99, Action: 0, Reward: -1, Total Accumulated Reward: -2\n",
            "+---------+\n",
            "|R: | : :G|\n",
            "| : | :\u001b[42m_\u001b[0m: |\n",
            "| : : : : |\n",
            "| | : | : |\n",
            "|Y| : |\u001b[35mB\u001b[0m: |\n",
            "+---------+\n",
            "  (West)\n",
            "\n",
            "Step: 2, State: 199, Action: 3, Reward: -1, Total Accumulated Reward: -3\n",
            "+---------+\n",
            "|R: | : :G|\n",
            "| : | : : |\n",
            "| : : :\u001b[42m_\u001b[0m: |\n",
            "| | : | : |\n",
            "|Y| : |\u001b[35mB\u001b[0m: |\n",
            "+---------+\n",
            "  (South)\n",
            "\n",
            "Step: 3, State: 179, Action: 0, Reward: -1, Total Accumulated Reward: -4\n",
            "+---------+\n",
            "|R: | : :G|\n",
            "| : | : : |\n",
            "| : : : : |\n",
            "| | : |\u001b[42m_\u001b[0m: |\n",
            "|Y| : |\u001b[35mB\u001b[0m: |\n",
            "+---------+\n",
            "  (South)\n",
            "\n",
            "Step: 4, State: 279, Action: 0, Reward: -1, Total Accumulated Reward: -5\n",
            "+---------+\n",
            "|R: | : :G|\n",
            "| : | : : |\n",
            "| : : : : |\n",
            "| | : | :\u001b[42m_\u001b[0m|\n",
            "|Y| : |\u001b[35mB\u001b[0m: |\n",
            "+---------+\n",
            "  (East)\n",
            "\n",
            "Step: 5, State: 379, Action: 2, Reward: -1, Total Accumulated Reward: -6\n",
            "+---------+\n",
            "|R: | : :G|\n",
            "| : | : : |\n",
            "| : : : : |\n",
            "| | : | : |\n",
            "|Y| : |\u001b[35mB\u001b[0m:\u001b[42m_\u001b[0m|\n",
            "+---------+\n",
            "  (South)\n",
            "\n",
            "Step: 6, State: 399, Action: 0, Reward: -1, Total Accumulated Reward: -7\n",
            "+---------+\n",
            "|R: | : :G|\n",
            "| : | : : |\n",
            "| : : : : |\n",
            "| | : | : |\n",
            "|Y| : |\u001b[35m\u001b[42mB\u001b[0m\u001b[0m: |\n",
            "+---------+\n",
            "  (West)\n",
            "\n",
            "Step: 7, State: 499, Action: 3, Reward: -1, Total Accumulated Reward: -8\n",
            "+---------+\n",
            "|R: | : :G|\n",
            "| : | : : |\n",
            "| : : : : |\n",
            "| | : | : |\n",
            "|Y| : |\u001b[35m\u001b[34;1m\u001b[43mB\u001b[0m\u001b[0m\u001b[0m: |\n",
            "+---------+\n",
            "  (Dropoff)\n",
            "\n",
            "Step: 8, State: 479, Action: 5, Reward: 20, Total Accumulated Reward: 12\n",
            "Total Steps: 9, Total Reward: 12\n",
            "\n",
            "SARSA Visualization\n",
            "\n",
            "+---------+\n",
            "|\u001b[35mR\u001b[0m: | : :G|\n",
            "| : | : : |\n",
            "| :\u001b[43m \u001b[0m: : : |\n",
            "| | : | : |\n",
            "|Y| : |\u001b[34;1mB\u001b[0m: |\n",
            "+---------+\n",
            "  (East)\n",
            "\n",
            "Step: 0, State: 212, Action: 2, Reward: -1, Total Accumulated Reward: -1\n",
            "+---------+\n",
            "|\u001b[35mR\u001b[0m: | : :G|\n",
            "| : | : : |\n",
            "| : :\u001b[43m \u001b[0m: : |\n",
            "| | : | : |\n",
            "|Y| : |\u001b[34;1mB\u001b[0m: |\n",
            "+---------+\n",
            "  (East)\n",
            "\n",
            "Step: 1, State: 232, Action: 2, Reward: -1, Total Accumulated Reward: -2\n",
            "+---------+\n",
            "|\u001b[35mR\u001b[0m: | : :G|\n",
            "| : | : : |\n",
            "| : : :\u001b[43m \u001b[0m: |\n",
            "| | : | : |\n",
            "|Y| : |\u001b[34;1mB\u001b[0m: |\n",
            "+---------+\n",
            "  (East)\n",
            "\n",
            "Step: 2, State: 252, Action: 2, Reward: -1, Total Accumulated Reward: -3\n",
            "+---------+\n",
            "|\u001b[35mR\u001b[0m: | : :G|\n",
            "| : | : : |\n",
            "| : : : : |\n",
            "| | : |\u001b[43m \u001b[0m: |\n",
            "|Y| : |\u001b[34;1mB\u001b[0m: |\n",
            "+---------+\n",
            "  (South)\n",
            "\n",
            "Step: 3, State: 272, Action: 0, Reward: -1, Total Accumulated Reward: -4\n",
            "+---------+\n",
            "|\u001b[35mR\u001b[0m: | : :G|\n",
            "| : | : : |\n",
            "| : : : : |\n",
            "| | : | : |\n",
            "|Y| : |\u001b[34;1m\u001b[43mB\u001b[0m\u001b[0m: |\n",
            "+---------+\n",
            "  (South)\n",
            "\n",
            "Step: 4, State: 372, Action: 0, Reward: -1, Total Accumulated Reward: -5\n",
            "+---------+\n",
            "|\u001b[35mR\u001b[0m: | : :G|\n",
            "| : | : : |\n",
            "| : : : : |\n",
            "| | : | : |\n",
            "|Y| : |\u001b[42mB\u001b[0m: |\n",
            "+---------+\n",
            "  (Pickup)\n",
            "\n",
            "Step: 5, State: 472, Action: 4, Reward: -1, Total Accumulated Reward: -6\n",
            "+---------+\n",
            "|\u001b[35mR\u001b[0m: | : :G|\n",
            "| : | : : |\n",
            "| : : : : |\n",
            "| | : |\u001b[42m_\u001b[0m: |\n",
            "|Y| : |B: |\n",
            "+---------+\n",
            "  (North)\n",
            "\n",
            "Step: 6, State: 476, Action: 1, Reward: -1, Total Accumulated Reward: -7\n",
            "+---------+\n",
            "|\u001b[35mR\u001b[0m: | : :G|\n",
            "| : | : : |\n",
            "| : : :\u001b[42m_\u001b[0m: |\n",
            "| | : | : |\n",
            "|Y| : |B: |\n",
            "+---------+\n",
            "  (North)\n",
            "\n",
            "Step: 7, State: 376, Action: 1, Reward: -1, Total Accumulated Reward: -8\n",
            "+---------+\n",
            "|\u001b[35mR\u001b[0m: | : :G|\n",
            "| : | : : |\n",
            "| : :\u001b[42m_\u001b[0m: : |\n",
            "| | : | : |\n",
            "|Y| : |B: |\n",
            "+---------+\n",
            "  (West)\n",
            "\n",
            "Step: 8, State: 276, Action: 3, Reward: -1, Total Accumulated Reward: -9\n",
            "+---------+\n",
            "|\u001b[35mR\u001b[0m: | : :G|\n",
            "| : | : : |\n",
            "| :\u001b[42m_\u001b[0m: : : |\n",
            "| | : | : |\n",
            "|Y| : |B: |\n",
            "+---------+\n",
            "  (West)\n",
            "\n",
            "Step: 9, State: 256, Action: 3, Reward: -1, Total Accumulated Reward: -10\n",
            "+---------+\n",
            "|\u001b[35mR\u001b[0m: | : :G|\n",
            "| :\u001b[42m_\u001b[0m| : : |\n",
            "| : : : : |\n",
            "| | : | : |\n",
            "|Y| : |B: |\n",
            "+---------+\n",
            "  (North)\n",
            "\n",
            "Step: 10, State: 236, Action: 1, Reward: -1, Total Accumulated Reward: -11\n",
            "+---------+\n",
            "|\u001b[35mR\u001b[0m: | : :G|\n",
            "|\u001b[42m_\u001b[0m: | : : |\n",
            "| : : : : |\n",
            "| | : | : |\n",
            "|Y| : |B: |\n",
            "+---------+\n",
            "  (West)\n",
            "\n",
            "Step: 11, State: 136, Action: 3, Reward: -1, Total Accumulated Reward: -12\n",
            "+---------+\n",
            "|\u001b[35m\u001b[42mR\u001b[0m\u001b[0m: | : :G|\n",
            "| : | : : |\n",
            "| : : : : |\n",
            "| | : | : |\n",
            "|Y| : |B: |\n",
            "+---------+\n",
            "  (North)\n",
            "\n",
            "Step: 12, State: 116, Action: 1, Reward: -1, Total Accumulated Reward: -13\n",
            "+---------+\n",
            "|\u001b[35m\u001b[34;1m\u001b[43mR\u001b[0m\u001b[0m\u001b[0m: | : :G|\n",
            "| : | : : |\n",
            "| : : : : |\n",
            "| | : | : |\n",
            "|Y| : |B: |\n",
            "+---------+\n",
            "  (Dropoff)\n",
            "\n",
            "Step: 13, State: 16, Action: 5, Reward: 20, Total Accumulated Reward: 7\n",
            "Total Steps: 14, Total Reward: 7\n"
          ]
        }
      ],
      "source": [
        "max_steps = 100\n",
        "\n",
        "# Visualize the agent for Q-learning\n",
        "def visualize_qlearning():\n",
        "    # Reset environment to starting state\n",
        "    state = env.reset()[0]\n",
        "\n",
        "    done = False\n",
        "    steps = 0\n",
        "    total_reward = 0\n",
        "    \n",
        "    print(\"\\nQ-learning Visualization\\n\")\n",
        "    while not done and steps < max_steps:\n",
        "        # Choose the greedy action based on the Q-values\n",
        "        action = greedy_action(Q_sarsa_test, state)\n",
        "\n",
        "        # Take the chosen action, observe the new state and reward, and check if the episode is done\n",
        "        new_state, reward, done, _, _ = env.step(action)\n",
        "\n",
        "        # Accumulate the total reward for the episode\n",
        "        total_reward += reward\n",
        "\n",
        "        # Print the current state, action, reward, and total accumulated reward\n",
        "        print(env.render())\n",
        "        print(f\"Step: {steps}, State: {state}, Action: {action}, Reward: {reward}, Total Accumulated Reward: {total_reward}\")\n",
        "        \n",
        "        # Update the current state to the new state\n",
        "        state = new_state\n",
        "        steps += 1\n",
        "\n",
        "    # Print the total number of steps taken and the total reward accumulated in the episode\n",
        "    print(f\"Total Steps: {steps}, Total Reward: {total_reward}\")\n",
        "\n",
        "# Visualize the agent for SARSA\n",
        "def visualize_sarsa():\n",
        "    # Reset environment to starting state\n",
        "    state = env.reset()[0]\n",
        "\n",
        "    done = False\n",
        "    steps = 0\n",
        "    total_reward = 0\n",
        "    \n",
        "    print(\"\\nSARSA Visualization\\n\")\n",
        "    while not done and steps < max_steps:\n",
        "        # Choose the greedy action based on the Q-values\n",
        "        action = greedy_action(Q_sarsa_test, state)\n",
        "\n",
        "        # Take the chosen action, observe the new state and reward, and check if the episode is done\n",
        "        new_state, reward, done, _, _ = env.step(action)\n",
        "\n",
        "        # Accumulate the total reward for the episode\n",
        "        total_reward += reward\n",
        "\n",
        "        # Print the current state, action, reward, and total accumulated reward\n",
        "        print(env.render())\n",
        "        print(f\"Step: {steps}, State: {state}, Action: {action}, Reward: {reward}, Total Accumulated Reward: {total_reward}\")\n",
        "        \n",
        "        # Update the current state to the new state\n",
        "        state = new_state\n",
        "        steps += 1\n",
        "\n",
        "    # Print the total number of steps taken and the total reward accumulated in the episode\n",
        "    print(f\"Total Steps: {steps}, Total Reward: {total_reward}\")\n",
        "\n",
        "# Visualize the agent for Q-learning and SARSA\n",
        "visualize_qlearning()\n",
        "visualize_sarsa()"
      ]
    }
  ],
  "metadata": {
    "colab": {
      "provenance": []
    },
    "kernelspec": {
      "display_name": "Python 3",
      "name": "python3"
    },
    "language_info": {
      "codemirror_mode": {
        "name": "ipython",
        "version": 3
      },
      "file_extension": ".py",
      "mimetype": "text/x-python",
      "name": "python",
      "nbconvert_exporter": "python",
      "pygments_lexer": "ipython3",
      "version": "3.12.5"
    }
  },
  "nbformat": 4,
  "nbformat_minor": 0
}
